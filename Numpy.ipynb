{
  "nbformat": 4,
  "nbformat_minor": 0,
  "metadata": {
    "colab": {
      "provenance": [],
      "include_colab_link": true
    },
    "kernelspec": {
      "name": "python3",
      "display_name": "Python 3"
    },
    "language_info": {
      "name": "python"
    }
  },
  "cells": [
    {
      "cell_type": "markdown",
      "metadata": {
        "id": "view-in-github",
        "colab_type": "text"
      },
      "source": [
        "<a href=\"https://colab.research.google.com/github/MohamedShoaib3/Algorithms_python/blob/main/Numpy.ipynb\" target=\"_parent\"><img src=\"https://colab.research.google.com/assets/colab-badge.svg\" alt=\"Open In Colab\"/></a>"
      ]
    },
    {
      "cell_type": "markdown",
      "source": [
        "# NumPy Practice Notebook\n",
        "\n",
        "This notebook contains a series of practice problems to help you understand and apply core concepts in NumPy.\n",
        "\n",
        "---\n",
        "\n",
        "## 🧩 1. Array Creation\n",
        "**Question:** Create the following arrays using NumPy:\n",
        "1. A 1D array with numbers from 0 to 9\n",
        "2. A 2D array of shape (3, 3) filled with zeros\n",
        "3. A 2D array of shape (2, 4) filled with ones\n",
        "4. A 3x3 identity matrix\n",
        "\n",
        "\n",
        "---\n"
      ],
      "metadata": {
        "id": "DIl4swbP_Iux"
      }
    },
    {
      "cell_type": "code",
      "source": [
        "import numpy as np\n",
        "arr1 = np.arange(10)\n",
        "print(\"1D array 0-9:\\n\", arr1)"
      ],
      "metadata": {
        "id": "Z2WD9-cU_6y8",
        "colab": {
          "base_uri": "https://localhost:8080/"
        },
        "outputId": "53e8a818-e378-4e25-9cae-6241a29427cd"
      },
      "execution_count": 22,
      "outputs": [
        {
          "output_type": "stream",
          "name": "stdout",
          "text": [
            "1D array 0-9:\n",
            " [0 1 2 3 4 5 6 7 8 9]\n"
          ]
        }
      ]
    },
    {
      "cell_type": "code",
      "source": [
        "arr2 = np.zeros((3, 3))\n",
        "print(\"\\n3x3 array of zeros:\\n\", arr2)"
      ],
      "metadata": {
        "id": "6wp_Cc9kt3Cl",
        "outputId": "c60ee93c-a862-4eb7-b22f-2f7110172406",
        "colab": {
          "base_uri": "https://localhost:8080/"
        }
      },
      "execution_count": 23,
      "outputs": [
        {
          "output_type": "stream",
          "name": "stdout",
          "text": [
            "\n",
            "3x3 array of zeros:\n",
            " [[0. 0. 0.]\n",
            " [0. 0. 0.]\n",
            " [0. 0. 0.]]\n"
          ]
        }
      ]
    },
    {
      "cell_type": "code",
      "source": [
        "arr3 = np.ones((2, 4))\n",
        "print(\"\\n2x4 array of ones:\\n\", arr3)"
      ],
      "metadata": {
        "id": "lee0mf8It27V",
        "outputId": "aaab7541-0543-40e0-8c2c-79704a0816dc",
        "colab": {
          "base_uri": "https://localhost:8080/"
        }
      },
      "execution_count": 24,
      "outputs": [
        {
          "output_type": "stream",
          "name": "stdout",
          "text": [
            "\n",
            "2x4 array of ones:\n",
            " [[1. 1. 1. 1.]\n",
            " [1. 1. 1. 1.]]\n"
          ]
        }
      ]
    },
    {
      "cell_type": "code",
      "source": [
        "arr4 = np.eye(3)\n",
        "print(\"\\n3x3 identity matrix:\\n\", arr4)"
      ],
      "metadata": {
        "id": "QGsR0L7Kt2sl",
        "outputId": "ab1ede17-0d09-414f-e920-96b625f5198f",
        "colab": {
          "base_uri": "https://localhost:8080/"
        }
      },
      "execution_count": 25,
      "outputs": [
        {
          "output_type": "stream",
          "name": "stdout",
          "text": [
            "\n",
            "3x3 identity matrix:\n",
            " [[1. 0. 0.]\n",
            " [0. 1. 0.]\n",
            " [0. 0. 1.]]\n"
          ]
        }
      ]
    },
    {
      "cell_type": "markdown",
      "source": [
        "\n",
        "## 🧪 2. Array Inspection\n",
        "**Question:** Given a NumPy array `arr`, print:\n",
        "1. Its shape\n",
        "2. Its data type\n",
        "3. The number of dimensions\n",
        "4. The total number of elements\n",
        "\n",
        "```python\n",
        "arr = np.array([[1, 2, 3], [4, 5, 6]])\n",
        "\n",
        "```\n",
        "\n",
        "---\n"
      ],
      "metadata": {
        "id": "UAFotM1N_h8t"
      }
    },
    {
      "cell_type": "code",
      "source": [
        "arr = np.array([[1, 2, 3], [4, 5, 6]])\n",
        "print(\"Shape:\", arr.shape)\n",
        "print(\"Data type:\", arr.dtype)\n",
        "print(\"Number of dimensions:\", arr.ndim)\n",
        "print(\"Total number of elements:\", arr.size)"
      ],
      "metadata": {
        "id": "shETp1_kuHbb",
        "outputId": "50600c8c-8b5a-4207-8d67-0a073d0c6208",
        "colab": {
          "base_uri": "https://localhost:8080/"
        }
      },
      "execution_count": 26,
      "outputs": [
        {
          "output_type": "stream",
          "name": "stdout",
          "text": [
            "Shape: (2, 3)\n",
            "Data type: int64\n",
            "Number of dimensions: 2\n",
            "Total number of elements: 6\n"
          ]
        }
      ]
    },
    {
      "cell_type": "markdown",
      "source": [
        "\n",
        "## 🔍 3. Indexing and Slicing\n",
        "**Question:** Using the array below, do the following:\n",
        "1. Slice the first two rows\n",
        "2. Get the last column\n",
        "3. Extract the element in the second row and third column\n",
        "4. Reverse the rows\n",
        "\n",
        "```python\n",
        "arr = np.array([[10, 20, 30], [40, 50, 60], [70, 80, 90]])\n",
        "\n",
        "```\n"
      ],
      "metadata": {
        "id": "ssUHqVJR_lyu"
      }
    },
    {
      "cell_type": "code",
      "source": [
        "arr = np.array([[10, 20, 30],\n",
        "                [40, 50, 60],\n",
        "                [70, 80, 90]])\n",
        "first_two_rows = arr[:2]\n",
        "print(\"First two rows:\\n\", first_two_rows)\n",
        "\n",
        "last_column = arr[:, -1]\n",
        "print(\"\\nLast column:\\n\", last_column)\n",
        "\n",
        "element_2_3 = arr[1, 2]\n",
        "print(\"\\nElement at 2nd row, 3rd column:\", element_2_3)\n",
        "\n",
        "reversed_rows = arr[::-1]\n",
        "print(\"\\nRows reversed:\\n\", reversed_rows)"
      ],
      "metadata": {
        "id": "2-vgRTKUuTth",
        "outputId": "14183175-9de4-4c61-cb61-253055930ca7",
        "colab": {
          "base_uri": "https://localhost:8080/"
        }
      },
      "execution_count": 27,
      "outputs": [
        {
          "output_type": "stream",
          "name": "stdout",
          "text": [
            "First two rows:\n",
            " [[10 20 30]\n",
            " [40 50 60]]\n",
            "\n",
            "Last column:\n",
            " [30 60 90]\n",
            "\n",
            "Element at 2nd row, 3rd column: 60\n",
            "\n",
            "Rows reversed:\n",
            " [[70 80 90]\n",
            " [40 50 60]\n",
            " [10 20 30]]\n"
          ]
        }
      ]
    },
    {
      "cell_type": "markdown",
      "source": [
        "\n",
        "---\n",
        "\n",
        "## 🔁 4. More Slicing Practice\n",
        "**Question:**\n",
        "Given the array below, extract:\n",
        "1. All even numbers\n",
        "2. The second and third rows\n",
        "3. The last two columns\n",
        "4. A subarray containing the middle 2x2 block\n",
        "\n",
        "```python\n",
        "arr = np.array([[1, 2, 3, 4],\n",
        "                [5, 6, 7, 8],\n",
        "                [9, 10, 11, 12],\n",
        "                [13, 14, 15, 16]])\n",
        "\n",
        "```\n"
      ],
      "metadata": {
        "id": "DwYyM0b1_nA5"
      }
    },
    {
      "cell_type": "code",
      "source": [
        "arr = np.array([[1, 2, 3, 4],\n",
        "                [5, 6, 7, 8],\n",
        "                [9, 10, 11, 12],\n",
        "                [13, 14, 15, 16]])\n",
        "\n",
        "even_numbers = arr[arr % 2 == 0]\n",
        "print(\"Even numbers:\\n\", even_numbers)\n",
        "\n",
        "second_third_rows = arr[1:3]\n",
        "print(\"\\nSecond and third rows:\\n\", second_third_rows)\n",
        "\n",
        "last_two_columns = arr[:, -2:]\n",
        "print(\"\\nLast two columns:\\n\", last_two_columns)\n",
        "\n",
        "middle_block = arr[1:3, 1:3]\n",
        "print(\"\\nMiddle 2x2 block:\\n\", middle_block)"
      ],
      "metadata": {
        "id": "Z9dvnQF2_9xI",
        "colab": {
          "base_uri": "https://localhost:8080/"
        },
        "outputId": "1909ad4b-9453-452a-aed9-a1752031463f"
      },
      "execution_count": 28,
      "outputs": [
        {
          "output_type": "stream",
          "name": "stdout",
          "text": [
            "Even numbers:\n",
            " [ 2  4  6  8 10 12 14 16]\n",
            "\n",
            "Second and third rows:\n",
            " [[ 5  6  7  8]\n",
            " [ 9 10 11 12]]\n",
            "\n",
            "Last two columns:\n",
            " [[ 3  4]\n",
            " [ 7  8]\n",
            " [11 12]\n",
            " [15 16]]\n",
            "\n",
            "Middle 2x2 block:\n",
            " [[ 6  7]\n",
            " [10 11]]\n"
          ]
        }
      ]
    },
    {
      "cell_type": "markdown",
      "source": [
        "\n",
        "---\n",
        "\n",
        "## ➕ 5. Arithmetic Operations\n",
        "**Question:** Perform the following using NumPy arrays:\n",
        "1. Add two arrays element-wise\n",
        "2. Multiply two arrays element-wise\n",
        "3. Raise all elements of an array to the power of 2\n",
        "\n",
        "```python\n",
        "arr1 = np.array([1, 2, 3])\n",
        "arr2 = np.array([4, 5, 6])\n",
        "\n",
        "```\n",
        "\n",
        "---\n"
      ],
      "metadata": {
        "id": "TYIR2o4w_qHm"
      }
    },
    {
      "cell_type": "code",
      "source": [
        "arr1 = np.array([1, 2, 3])\n",
        "arr2 = np.array([4, 5, 6])\n",
        "\n",
        "sum_array = arr1 + arr2\n",
        "print(\"Element-wise sum:\", sum_array)\n",
        "\n",
        "product_array = arr1 * arr2\n",
        "print(\"Element-wise product:\", product_array)\n",
        "\n",
        "squared_array = arr1 ** 2\n",
        "print(\"arr1 squared:\", squared_array)"
      ],
      "metadata": {
        "id": "3pOaUm-y_--J",
        "colab": {
          "base_uri": "https://localhost:8080/"
        },
        "outputId": "cfe5a635-2b47-4fa8-d717-b004b665b147"
      },
      "execution_count": 29,
      "outputs": [
        {
          "output_type": "stream",
          "name": "stdout",
          "text": [
            "Element-wise sum: [5 7 9]\n",
            "Element-wise product: [ 4 10 18]\n",
            "arr1 squared: [1 4 9]\n"
          ]
        }
      ]
    },
    {
      "cell_type": "markdown",
      "source": [
        "\n",
        "## 📏 6. Broadcasting\n",
        "**Question:** Use broadcasting to:\n",
        "1. Add a 1D array to each row of a 2D array\n",
        "2. Multiply each row of a 2D array by a 1D array\n",
        "3. Subtract a scalar from each element in an array\n",
        "4. Add a column vector to each column of a matrix\n",
        "\n",
        "```python\n",
        "A = np.array([[1, 2, 3],\n",
        "              [4, 5, 6]])\n",
        "\n",
        "B = np.array([10, 20, 30])\n",
        "C = np.array([[1], [2]])\n",
        "\n",
        "```\n"
      ],
      "metadata": {
        "id": "mfYIu2L9_rl6"
      }
    },
    {
      "cell_type": "code",
      "source": [
        "A = np.array([[1, 2, 3],\n",
        "              [4, 5, 6]])\n",
        "\n",
        "B = np.array([10, 20, 30])\n",
        "C = np.array([[1], [2]])\n",
        "\n",
        "add_row = A + B\n",
        "print(\"Add B to each row of A:\\n\", add_row)\n",
        "\n",
        "multiply_row = A * B\n",
        "print(\"\\nMultiply each row of A by B:\\n\", multiply_row)\n",
        "\n",
        "subtract_scalar = A - 5\n",
        "print(\"\\nSubtract scalar 5 from each element:\\n\", subtract_scalar)\n",
        "\n",
        "add_column_vector = A + C\n",
        "print(\"\\nAdd column vector C to each column of A:\\n\", add_column_vector)"
      ],
      "metadata": {
        "id": "HLueW9R2__sQ",
        "colab": {
          "base_uri": "https://localhost:8080/"
        },
        "outputId": "c67d209f-7f00-4047-f9e2-829d32615cd8"
      },
      "execution_count": 30,
      "outputs": [
        {
          "output_type": "stream",
          "name": "stdout",
          "text": [
            "Add B to each row of A:\n",
            " [[11 22 33]\n",
            " [14 25 36]]\n",
            "\n",
            "Multiply each row of A by B:\n",
            " [[ 10  40  90]\n",
            " [ 40 100 180]]\n",
            "\n",
            "Subtract scalar 5 from each element:\n",
            " [[-4 -3 -2]\n",
            " [-1  0  1]]\n",
            "\n",
            "Add column vector C to each column of A:\n",
            " [[2 3 4]\n",
            " [6 7 8]]\n"
          ]
        }
      ]
    },
    {
      "cell_type": "markdown",
      "source": [
        "\n",
        "---\n",
        "\n",
        "## 🔁 7. More Broadcasting Practice\n",
        "**Question:** Try these:\n",
        "1. Add a 1D array of shape (4,) to a 2D array of shape (3,4)\n",
        "2. Multiply a (3,1) column array to a (1,4) row array and observe the shape\n",
        "3. Add a scalar to the entire array\n",
        "\n",
        "```python\n",
        "A = np.arange(12).reshape(3, 4)\n",
        "B = np.array([100, 200, 300, 400])\n",
        "C = np.array([[2], [3], [4]])\n",
        "\n",
        "```\n"
      ],
      "metadata": {
        "id": "GwaQHqqM_szI"
      }
    },
    {
      "cell_type": "code",
      "source": [
        "import numpy as np\n",
        "\n",
        "A = np.arange(12).reshape(3, 4)\n",
        "B = np.array([100, 200, 300, 400])\n",
        "C = np.array([[2], [3], [4]])\n",
        "\n",
        "add_row = A + B\n",
        "print(\"Add 1D array B to each row of A:\\n\", add_row)\n",
        "print(\"-----------------------------\")\n",
        "\n",
        "multiply_col_row = C * B  # Broadcasting يؤدي لمصفوفة (3,4)\n",
        "print(\"Multiply column vector C with row vector B:\\n\", multiply_col_row)\n",
        "print(\"Shape:\", multiply_col_row.shape)\n",
        "print(\"-------------------------------\")\n",
        "\n",
        "add_scalar = A + 10\n",
        "print(\"Add scalar 10 to all elements of A:\\n\", add_scalar)\n"
      ],
      "metadata": {
        "id": "92PwMwBtAAwq",
        "colab": {
          "base_uri": "https://localhost:8080/"
        },
        "outputId": "e64a4c35-bbf4-438f-a42a-8746e5c3efd7"
      },
      "execution_count": 31,
      "outputs": [
        {
          "output_type": "stream",
          "name": "stdout",
          "text": [
            "Add 1D array B to each row of A:\n",
            " [[100 201 302 403]\n",
            " [104 205 306 407]\n",
            " [108 209 310 411]]\n",
            "-----------------------------\n",
            "Multiply column vector C with row vector B:\n",
            " [[ 200  400  600  800]\n",
            " [ 300  600  900 1200]\n",
            " [ 400  800 1200 1600]]\n",
            "Shape: (3, 4)\n",
            "-------------------------------\n",
            "Add scalar 10 to all elements of A:\n",
            " [[10 11 12 13]\n",
            " [14 15 16 17]\n",
            " [18 19 20 21]]\n"
          ]
        }
      ]
    },
    {
      "cell_type": "markdown",
      "source": [
        "\n",
        "---\n",
        "\n",
        "## 🔃 8. Reshaping and Flattening\n",
        "**Question:**\n",
        "1. Reshape a 1D array of 12 elements into a 3x4 matrix\n",
        "2. Flatten a 2D array into a 1D array\n",
        "\n",
        "```python\n",
        "arr = np.arange(12)\n",
        "\n",
        "```\n"
      ],
      "metadata": {
        "id": "s0-ElcHm_uLL"
      }
    },
    {
      "cell_type": "code",
      "source": [
        "arr = np.arange(12)\n",
        "reshaped = arr.reshape(3, 4)\n",
        "print(\"Reshaped 1D array into 3x4 matrix:\\n\", reshaped)\n",
        "print(\"--------------------------------------\")\n",
        "\n",
        "flattened = reshaped.flatten()\n",
        "print(\"Flattened 2D array into 1D array:\\n\", flattened)\n"
      ],
      "metadata": {
        "id": "6cuXtuHNABj7",
        "colab": {
          "base_uri": "https://localhost:8080/"
        },
        "outputId": "8d4672c6-bedf-4733-aa6f-5b051b94a37d"
      },
      "execution_count": 32,
      "outputs": [
        {
          "output_type": "stream",
          "name": "stdout",
          "text": [
            "Reshaped 1D array into 3x4 matrix:\n",
            " [[ 0  1  2  3]\n",
            " [ 4  5  6  7]\n",
            " [ 8  9 10 11]]\n",
            "--------------------------------------\n",
            "Flattened 2D array into 1D array:\n",
            " [ 0  1  2  3  4  5  6  7  8  9 10 11]\n"
          ]
        }
      ]
    },
    {
      "cell_type": "markdown",
      "source": [
        "\n",
        "---\n",
        "\n",
        "## 🔗 9. Stacking and Splitting\n",
        "**Question:** Stack and split arrays:\n",
        "1. Stack two (2, 2) arrays vertically and horizontally\n",
        "2. reshape a (4, 4) array into array of shape (2, 8)\n",
        "\n",
        "\n",
        "---\n"
      ],
      "metadata": {
        "id": "wE_NIjfD_wYt"
      }
    },
    {
      "cell_type": "code",
      "source": [
        "arr1 = np.array([[1, 2], [3, 4]])\n",
        "arr2 = np.array([[5, 6], [7, 8]])\n",
        "\n",
        "v_stack = np.vstack((arr1, arr2))\n",
        "print(\"Vertical Stack:\\n\", v_stack)\n",
        "print(\"---------------------------------\")\n",
        "\n",
        "h_stack = np.hstack((arr1, arr2))\n",
        "print(\"Horizontal Stack:\\n\", h_stack)\n",
        "print(\"----------------------------------\")\n",
        "\n",
        "arr3 = np.arange(16).reshape(4, 4)\n",
        "reshaped = arr3.reshape(2, 8)\n",
        "print(\"Reshaped (4,4) to (2,8):\\n\", reshaped)"
      ],
      "metadata": {
        "id": "qpFU0JRWwPLG",
        "outputId": "37169d2b-818c-4394-82d7-43189354dcf9",
        "colab": {
          "base_uri": "https://localhost:8080/"
        }
      },
      "execution_count": 33,
      "outputs": [
        {
          "output_type": "stream",
          "name": "stdout",
          "text": [
            "Vertical Stack:\n",
            " [[1 2]\n",
            " [3 4]\n",
            " [5 6]\n",
            " [7 8]]\n",
            "---------------------------------\n",
            "Horizontal Stack:\n",
            " [[1 2 5 6]\n",
            " [3 4 7 8]]\n",
            "----------------------------------\n",
            "Reshaped (4,4) to (2,8):\n",
            " [[ 0  1  2  3  4  5  6  7]\n",
            " [ 8  9 10 11 12 13 14 15]]\n"
          ]
        }
      ]
    },
    {
      "cell_type": "markdown",
      "source": [
        "\n",
        "## 🧠 10. Boolean Masking\n",
        "**Question:**\n",
        "Given an array:\n",
        "1. Select all elements > 10\n",
        "2. Replace all even numbers with -1\n",
        "\n",
        "```python\n",
        "arr = np.array([[5, 10, 15], [20, 25, 30]])\n",
        "\n",
        "```\n"
      ],
      "metadata": {
        "id": "xEMoDhIO_xz1"
      }
    },
    {
      "cell_type": "code",
      "source": [
        "arr = np.array([[5, 10, 15], [20, 25, 30]])\n",
        "\n",
        "greater_than_10 = arr[arr > 10]\n",
        "print(\"Elements > 10:\\n\", greater_than_10)\n",
        "print(\"--------------------------------------\")\n",
        "\n",
        "arr_even_replaced = arr.copy()\n",
        "arr_even_replaced[arr_even_replaced % 2 == 0] = -1\n",
        "print(\"Array with even numbers replaced by -1:\\n\", arr_even_replaced)\n"
      ],
      "metadata": {
        "id": "jejS1-qiADMy",
        "colab": {
          "base_uri": "https://localhost:8080/"
        },
        "outputId": "2e3c3081-fb27-4a32-df34-b2c231c166b6"
      },
      "execution_count": 34,
      "outputs": [
        {
          "output_type": "stream",
          "name": "stdout",
          "text": [
            "Elements > 10:\n",
            " [15 20 25 30]\n",
            "--------------------------------------\n",
            "Array with even numbers replaced by -1:\n",
            " [[ 5 -1 15]\n",
            " [-1 25 -1]]\n"
          ]
        }
      ]
    },
    {
      "cell_type": "markdown",
      "source": [
        "\n",
        "---\n",
        "\n",
        "## 🧮 11. Aggregation\n",
        "**Question:** Calculate:\n",
        "1. Sum of all elements\n",
        "2. Mean of each column\n",
        "3. Max value in each row\n",
        "4. Standard deviation of the array\n",
        "\n",
        "```python\n",
        "arr = np.array([[1, 2, 3], [4, 5, 6]])\n",
        "\n",
        "```\n"
      ],
      "metadata": {
        "id": "9AY2Y8HR_zSR"
      }
    },
    {
      "cell_type": "code",
      "source": [
        "arr = np.array([[1, 2, 3], [4, 5, 6]])\n",
        "total_sum = np.sum(arr)\n",
        "print(\"Sum of all elements:\", total_sum)\n",
        "print(\"------------------------------------\")\n",
        "\n",
        "mean_per_column = np.mean(arr, axis=0)\n",
        "print(\"Mean of each column:\", mean_per_column)\n",
        "print(\"-----------------------------------\")\n",
        "\n",
        "max_per_row = np.max(arr, axis=1)\n",
        "print(\"Max value in each row:\", max_per_row)\n",
        "print(\"------------------------------------\")\n",
        "\n",
        "std_dev = np.std(arr)\n",
        "print(\"Standard deviation of the array:\", std_dev)"
      ],
      "metadata": {
        "id": "xlaIab8NAESs",
        "colab": {
          "base_uri": "https://localhost:8080/"
        },
        "outputId": "6ea305ab-b86e-48a4-b31e-ac862d808b6c"
      },
      "execution_count": 35,
      "outputs": [
        {
          "output_type": "stream",
          "name": "stdout",
          "text": [
            "Sum of all elements: 21\n",
            "------------------------------------\n",
            "Mean of each column: [2.5 3.5 4.5]\n",
            "-----------------------------------\n",
            "Max value in each row: [3 6]\n",
            "------------------------------------\n",
            "Standard deviation of the array: 1.707825127659933\n"
          ]
        }
      ]
    },
    {
      "cell_type": "markdown",
      "source": [
        "\n",
        "---\n",
        "\n",
        "## 🧲 12. Dot Product and Matrix Multiplication\n",
        "**Question:**\n",
        "1. Multiply two matrices using `np.dot`\n",
        "\n",
        "```python\n",
        "A = np.array([[1, 2],\n",
        "              [3, 4]])\n",
        "B = np.array([[5, 6],\n",
        "              [7, 8]])\n",
        "\n",
        "```\n"
      ],
      "metadata": {
        "id": "N4mqr1Gr_0Kt"
      }
    },
    {
      "cell_type": "code",
      "source": [
        "A = np.array([[1, 2],\n",
        "              [3, 4]])\n",
        "B = np.array([[5, 6],\n",
        "              [7, 8]])\n",
        "dot_product = np.dot(A, B)\n",
        "print(\"Dot Product (Matrix Multiplication):\\n\", dot_product)"
      ],
      "metadata": {
        "id": "gbWAzqoYAFR0",
        "colab": {
          "base_uri": "https://localhost:8080/"
        },
        "outputId": "748b2233-5770-4e70-900d-9f2276383e49"
      },
      "execution_count": 36,
      "outputs": [
        {
          "output_type": "stream",
          "name": "stdout",
          "text": [
            "Dot Product (Matrix Multiplication):\n",
            " [[19 22]\n",
            " [43 50]]\n"
          ]
        }
      ]
    },
    {
      "cell_type": "markdown",
      "source": [
        "\n",
        "---\n",
        "\n",
        "## 🔢 13. Random Numbers\n",
        "**Question:**\n",
        "1. Generate a 2x3 array of random numbers between 0 and 1\n",
        "2. Generate 10 random integers between 50 and 100\n",
        "\n"
      ],
      "metadata": {
        "id": "W1UDOAdi_1ar"
      }
    },
    {
      "cell_type": "code",
      "source": [
        "random_floats = np.random.rand(2, 3)\n",
        "print(\"2x3 Random numbers between 0 and 1:\\n\", random_floats)\n",
        "print(\"----------------------------------\")\n",
        "\n",
        "random_ints = np.random.randint(50, 101, size=10)\n",
        "print(\"10 Random integers between 50 and 100:\\n\", random_ints)"
      ],
      "metadata": {
        "id": "jOVTvy_hAGcv",
        "colab": {
          "base_uri": "https://localhost:8080/"
        },
        "outputId": "598f5a80-d221-4378-d6fb-0df07fa884e7"
      },
      "execution_count": 37,
      "outputs": [
        {
          "output_type": "stream",
          "name": "stdout",
          "text": [
            "2x3 Random numbers between 0 and 1:\n",
            " [[0.94512709 0.95716757 0.5185845 ]\n",
            " [0.72806593 0.97844883 0.9991891 ]]\n",
            "----------------------------------\n",
            "10 Random integers between 50 and 100:\n",
            " [95 61 51 71 57 52 80 83 83 66]\n"
          ]
        }
      ]
    },
    {
      "cell_type": "markdown",
      "source": [
        "\n",
        "---\n",
        "\n",
        "## 📐 14. Linear Algebra\n",
        "**Question:**\n",
        "1. Find the rank of a matrix\n",
        "2. Compute the inverse of a matrix\n",
        "3. Compute the determinant of a matrix\n",
        "\n",
        "\n",
        "\n",
        "---\n"
      ],
      "metadata": {
        "id": "O-rWgFCv_27-"
      }
    },
    {
      "cell_type": "code",
      "source": [
        "matrix = np.array([[1, 2],\n",
        "                   [3, 4]])\n",
        "\n",
        "rank = np.linalg.matrix_rank(matrix)\n",
        "print(\"Rank of the matrix:\", rank)\n",
        "print(\"-----------------------------\")\n",
        "\n",
        "inverse_matrix = np.linalg.inv(matrix)\n",
        "print(\"Inverse of the matrix:\\n\", inverse_matrix)\n",
        "print(\"----------------------------\")\n",
        "\n",
        "determinant = np.linalg.det(matrix)\n",
        "print(\"Determinant of the matrix:\", determinant)"
      ],
      "metadata": {
        "id": "rcW7oVrGAGwI",
        "colab": {
          "base_uri": "https://localhost:8080/"
        },
        "outputId": "7ceba852-7674-4c8c-d1f2-50530df2bebc"
      },
      "execution_count": 38,
      "outputs": [
        {
          "output_type": "stream",
          "name": "stdout",
          "text": [
            "Rank of the matrix: 2\n",
            "-----------------------------\n",
            "Inverse of the matrix:\n",
            " [[-2.   1. ]\n",
            " [ 1.5 -0.5]]\n",
            "----------------------------\n",
            "Determinant of the matrix: -2.0000000000000004\n"
          ]
        }
      ]
    },
    {
      "cell_type": "markdown",
      "source": [
        "\n",
        "## ⭐ Bonus Challenge\n",
        "**Question:**\n",
        "Given a 2D array of shape (6, 6), extract all 3x3 submatrices (using slicing) and store them in a list.\n",
        "\n"
      ],
      "metadata": {
        "id": "lQb606tk_5L5"
      }
    },
    {
      "cell_type": "code",
      "source": [
        "arr = np.arange(1, 37).reshape(6, 6)\n",
        "print(\"Original 6x6 Array:\\n\", arr)\n",
        "print(\"--------------------\")\n",
        "\n",
        "submatrices = []\n",
        "for i in range(arr.shape[0] - 2):\n",
        "    for j in range(arr.shape[1] - 2):\n",
        "        sub = arr[i:i+3, j:j+3]\n",
        "        submatrices.append(sub)\n",
        "\n",
        "for idx, mat in enumerate(submatrices, start=1):\n",
        "    print(f\"Submatrix {idx}:\\n{mat}\")"
      ],
      "metadata": {
        "id": "dNR9aI5m9Vrr",
        "colab": {
          "base_uri": "https://localhost:8080/"
        },
        "outputId": "7471c55e-a4bb-416c-a7f6-5929ed00d176"
      },
      "execution_count": 39,
      "outputs": [
        {
          "output_type": "stream",
          "name": "stdout",
          "text": [
            "Original 6x6 Array:\n",
            " [[ 1  2  3  4  5  6]\n",
            " [ 7  8  9 10 11 12]\n",
            " [13 14 15 16 17 18]\n",
            " [19 20 21 22 23 24]\n",
            " [25 26 27 28 29 30]\n",
            " [31 32 33 34 35 36]]\n",
            "--------------------\n",
            "Submatrix 1:\n",
            "[[ 1  2  3]\n",
            " [ 7  8  9]\n",
            " [13 14 15]]\n",
            "Submatrix 2:\n",
            "[[ 2  3  4]\n",
            " [ 8  9 10]\n",
            " [14 15 16]]\n",
            "Submatrix 3:\n",
            "[[ 3  4  5]\n",
            " [ 9 10 11]\n",
            " [15 16 17]]\n",
            "Submatrix 4:\n",
            "[[ 4  5  6]\n",
            " [10 11 12]\n",
            " [16 17 18]]\n",
            "Submatrix 5:\n",
            "[[ 7  8  9]\n",
            " [13 14 15]\n",
            " [19 20 21]]\n",
            "Submatrix 6:\n",
            "[[ 8  9 10]\n",
            " [14 15 16]\n",
            " [20 21 22]]\n",
            "Submatrix 7:\n",
            "[[ 9 10 11]\n",
            " [15 16 17]\n",
            " [21 22 23]]\n",
            "Submatrix 8:\n",
            "[[10 11 12]\n",
            " [16 17 18]\n",
            " [22 23 24]]\n",
            "Submatrix 9:\n",
            "[[13 14 15]\n",
            " [19 20 21]\n",
            " [25 26 27]]\n",
            "Submatrix 10:\n",
            "[[14 15 16]\n",
            " [20 21 22]\n",
            " [26 27 28]]\n",
            "Submatrix 11:\n",
            "[[15 16 17]\n",
            " [21 22 23]\n",
            " [27 28 29]]\n",
            "Submatrix 12:\n",
            "[[16 17 18]\n",
            " [22 23 24]\n",
            " [28 29 30]]\n",
            "Submatrix 13:\n",
            "[[19 20 21]\n",
            " [25 26 27]\n",
            " [31 32 33]]\n",
            "Submatrix 14:\n",
            "[[20 21 22]\n",
            " [26 27 28]\n",
            " [32 33 34]]\n",
            "Submatrix 15:\n",
            "[[21 22 23]\n",
            " [27 28 29]\n",
            " [33 34 35]]\n",
            "Submatrix 16:\n",
            "[[22 23 24]\n",
            " [28 29 30]\n",
            " [34 35 36]]\n"
          ]
        }
      ]
    },
    {
      "cell_type": "markdown",
      "source": [
        "\n",
        "---\n",
        "\n",
        "Happy coding! 🎯\n"
      ],
      "metadata": {
        "id": "-qOCxwQnAJn2"
      }
    }
  ]
}
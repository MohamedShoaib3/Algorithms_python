{
  "nbformat": 4,
  "nbformat_minor": 0,
  "metadata": {
    "colab": {
      "provenance": [],
      "include_colab_link": true
    },
    "kernelspec": {
      "name": "python3",
      "display_name": "Python 3"
    },
    "language_info": {
      "name": "python"
    }
  },
  "cells": [
    {
      "cell_type": "markdown",
      "metadata": {
        "id": "view-in-github",
        "colab_type": "text"
      },
      "source": [
        "<a href=\"https://colab.research.google.com/github/MohamedShoaib3/Algorithms_python/blob/main/Numpy.ipynb\" target=\"_parent\"><img src=\"https://colab.research.google.com/assets/colab-badge.svg\" alt=\"Open In Colab\"/></a>"
      ]
    },
    {
      "cell_type": "markdown",
      "source": [
        "# NumPy Practice Notebook\n",
        "\n",
        "This notebook contains a series of practice problems to help you understand and apply core concepts in NumPy.\n",
        "\n",
        "---\n",
        "\n",
        "## 🧩 1. Array Creation\n",
        "**Question:** Create the following arrays using NumPy:\n",
        "1. A 1D array with numbers from 0 to 9\n",
        "2. A 2D array of shape (3, 3) filled with zeros\n",
        "3. A 2D array of shape (2, 4) filled with ones\n",
        "4. A 3x3 identity matrix\n",
        "\n",
        "\n",
        "---\n"
      ],
      "metadata": {
        "id": "DIl4swbP_Iux"
      }
    },
    {
      "cell_type": "code",
      "source": [
        "import numpy as np\n",
        "arr1 = np.arange(10)\n",
        "print(\"1D array 0-9:\\n\", arr1)"
      ],
      "metadata": {
        "id": "Z2WD9-cU_6y8",
        "outputId": "62e0eb26-6b7d-460d-9a28-b73eca659e98",
        "colab": {
          "base_uri": "https://localhost:8080/"
        }
      },
      "execution_count": 1,
      "outputs": [
        {
          "output_type": "stream",
          "name": "stdout",
          "text": [
            "1D array 0-9:\n",
            " [0 1 2 3 4 5 6 7 8 9]\n"
          ]
        }
      ]
    },
    {
      "cell_type": "markdown",
      "source": [
        "\n",
        "## 🧪 2. Array Inspection\n",
        "**Question:** Given a NumPy array `arr`, print:\n",
        "1. Its shape\n",
        "2. Its data type\n",
        "3. The number of dimensions\n",
        "4. The total number of elements\n",
        "\n",
        "```python\n",
        "arr = np.array([[1, 2, 3], [4, 5, 6]])\n",
        "\n",
        "```\n",
        "\n",
        "---\n"
      ],
      "metadata": {
        "id": "UAFotM1N_h8t"
      }
    },
    {
      "cell_type": "markdown",
      "source": [
        "\n",
        "## 🔍 3. Indexing and Slicing\n",
        "**Question:** Using the array below, do the following:\n",
        "1. Slice the first two rows\n",
        "2. Get the last column\n",
        "3. Extract the element in the second row and third column\n",
        "4. Reverse the rows\n",
        "\n",
        "```python\n",
        "arr = np.array([[10, 20, 30], [40, 50, 60], [70, 80, 90]])\n",
        "\n",
        "```\n"
      ],
      "metadata": {
        "id": "ssUHqVJR_lyu"
      }
    },
    {
      "cell_type": "code",
      "source": [
        "arr = np.array([[10, 20, 30], [40, 50, 60], [70, 80, 90]])"
      ],
      "metadata": {
        "id": "EHK3lYVn_8vR"
      },
      "execution_count": null,
      "outputs": []
    },
    {
      "cell_type": "markdown",
      "source": [
        "\n",
        "---\n",
        "\n",
        "## 🔁 4. More Slicing Practice\n",
        "**Question:**\n",
        "Given the array below, extract:\n",
        "1. All even numbers\n",
        "2. The second and third rows\n",
        "3. The last two columns\n",
        "4. A subarray containing the middle 2x2 block\n",
        "\n",
        "```python\n",
        "arr = np.array([[1, 2, 3, 4],\n",
        "                [5, 6, 7, 8],\n",
        "                [9, 10, 11, 12],\n",
        "                [13, 14, 15, 16]])\n",
        "\n",
        "```\n"
      ],
      "metadata": {
        "id": "DwYyM0b1_nA5"
      }
    },
    {
      "cell_type": "code",
      "source": [],
      "metadata": {
        "id": "Z9dvnQF2_9xI"
      },
      "execution_count": null,
      "outputs": []
    },
    {
      "cell_type": "markdown",
      "source": [
        "\n",
        "---\n",
        "\n",
        "## ➕ 5. Arithmetic Operations\n",
        "**Question:** Perform the following using NumPy arrays:\n",
        "1. Add two arrays element-wise\n",
        "2. Multiply two arrays element-wise\n",
        "3. Raise all elements of an array to the power of 2\n",
        "\n",
        "```python\n",
        "arr1 = np.array([1, 2, 3])\n",
        "arr2 = np.array([4, 5, 6])\n",
        "\n",
        "```\n",
        "\n",
        "---\n"
      ],
      "metadata": {
        "id": "TYIR2o4w_qHm"
      }
    },
    {
      "cell_type": "code",
      "source": [],
      "metadata": {
        "id": "3pOaUm-y_--J"
      },
      "execution_count": null,
      "outputs": []
    },
    {
      "cell_type": "markdown",
      "source": [
        "\n",
        "## 📏 6. Broadcasting\n",
        "**Question:** Use broadcasting to:\n",
        "1. Add a 1D array to each row of a 2D array\n",
        "2. Multiply each row of a 2D array by a 1D array\n",
        "3. Subtract a scalar from each element in an array\n",
        "4. Add a column vector to each column of a matrix\n",
        "\n",
        "```python\n",
        "A = np.array([[1, 2, 3],\n",
        "              [4, 5, 6]])\n",
        "\n",
        "B = np.array([10, 20, 30])\n",
        "C = np.array([[1], [2]])\n",
        "\n",
        "```\n"
      ],
      "metadata": {
        "id": "mfYIu2L9_rl6"
      }
    },
    {
      "cell_type": "code",
      "source": [
        "import numpy as np\n",
        "A = np.array([[1, 2, 3], [4, 5, 6]])\n",
        "B = np.array([10, 20, 30])\n",
        "C = np.array([[1], [2]])"
      ],
      "metadata": {
        "id": "HLueW9R2__sQ"
      },
      "execution_count": null,
      "outputs": []
    },
    {
      "cell_type": "markdown",
      "source": [
        "\n",
        "---\n",
        "\n",
        "## 🔁 7. More Broadcasting Practice\n",
        "**Question:** Try these:\n",
        "1. Add a 1D array of shape (4,) to a 2D array of shape (3,4)\n",
        "2. Multiply a (3,1) column array to a (1,4) row array and observe the shape\n",
        "3. Add a scalar to the entire array\n",
        "\n",
        "```python\n",
        "A = np.arange(12).reshape(3, 4)\n",
        "B = np.array([100, 200, 300, 400])\n",
        "C = np.array([[2], [3], [4]])\n",
        "\n",
        "```\n"
      ],
      "metadata": {
        "id": "GwaQHqqM_szI"
      }
    },
    {
      "cell_type": "code",
      "source": [],
      "metadata": {
        "id": "92PwMwBtAAwq"
      },
      "execution_count": null,
      "outputs": []
    },
    {
      "cell_type": "markdown",
      "source": [
        "\n",
        "---\n",
        "\n",
        "## 🔃 8. Reshaping and Flattening\n",
        "**Question:**\n",
        "1. Reshape a 1D array of 12 elements into a 3x4 matrix\n",
        "2. Flatten a 2D array into a 1D array\n",
        "\n",
        "```python\n",
        "arr = np.arange(12)\n",
        "\n",
        "```\n"
      ],
      "metadata": {
        "id": "s0-ElcHm_uLL"
      }
    },
    {
      "cell_type": "code",
      "source": [],
      "metadata": {
        "id": "6cuXtuHNABj7"
      },
      "execution_count": null,
      "outputs": []
    },
    {
      "cell_type": "markdown",
      "source": [
        "\n",
        "---\n",
        "\n",
        "## 🔗 9. Stacking and Splitting\n",
        "**Question:** Stack and split arrays:\n",
        "1. Stack two (2, 2) arrays vertically and horizontally\n",
        "2. reshape a (4, 4) array into array of shape (2, 8)\n",
        "\n",
        "\n",
        "---\n"
      ],
      "metadata": {
        "id": "wE_NIjfD_wYt"
      }
    },
    {
      "cell_type": "markdown",
      "source": [
        "\n",
        "## 🧠 10. Boolean Masking\n",
        "**Question:**\n",
        "Given an array:\n",
        "1. Select all elements > 10\n",
        "2. Replace all even numbers with -1\n",
        "\n",
        "```python\n",
        "arr = np.array([[5, 10, 15], [20, 25, 30]])\n",
        "\n",
        "```\n"
      ],
      "metadata": {
        "id": "xEMoDhIO_xz1"
      }
    },
    {
      "cell_type": "code",
      "source": [],
      "metadata": {
        "id": "jejS1-qiADMy"
      },
      "execution_count": null,
      "outputs": []
    },
    {
      "cell_type": "markdown",
      "source": [
        "\n",
        "---\n",
        "\n",
        "## 🧮 11. Aggregation\n",
        "**Question:** Calculate:\n",
        "1. Sum of all elements\n",
        "2. Mean of each column\n",
        "3. Max value in each row\n",
        "4. Standard deviation of the array\n",
        "\n",
        "```python\n",
        "arr = np.array([[1, 2, 3], [4, 5, 6]])\n",
        "\n",
        "```\n"
      ],
      "metadata": {
        "id": "9AY2Y8HR_zSR"
      }
    },
    {
      "cell_type": "code",
      "source": [],
      "metadata": {
        "id": "xlaIab8NAESs"
      },
      "execution_count": null,
      "outputs": []
    },
    {
      "cell_type": "markdown",
      "source": [
        "\n",
        "---\n",
        "\n",
        "## 🧲 12. Dot Product and Matrix Multiplication\n",
        "**Question:**\n",
        "1. Multiply two matrices using `np.dot`\n",
        "\n",
        "```python\n",
        "A = np.array([[1, 2],\n",
        "              [3, 4]])\n",
        "B = np.array([[5, 6],\n",
        "              [7, 8]])\n",
        "\n",
        "```\n"
      ],
      "metadata": {
        "id": "N4mqr1Gr_0Kt"
      }
    },
    {
      "cell_type": "code",
      "source": [],
      "metadata": {
        "id": "gbWAzqoYAFR0"
      },
      "execution_count": null,
      "outputs": []
    },
    {
      "cell_type": "markdown",
      "source": [
        "\n",
        "---\n",
        "\n",
        "## 🔢 13. Random Numbers\n",
        "**Question:**\n",
        "1. Generate a 2x3 array of random numbers between 0 and 1\n",
        "2. Generate 10 random integers between 50 and 100\n",
        "\n"
      ],
      "metadata": {
        "id": "W1UDOAdi_1ar"
      }
    },
    {
      "cell_type": "code",
      "source": [],
      "metadata": {
        "id": "jOVTvy_hAGcv"
      },
      "execution_count": null,
      "outputs": []
    },
    {
      "cell_type": "markdown",
      "source": [
        "\n",
        "---\n",
        "\n",
        "## 📐 14. Linear Algebra\n",
        "**Question:**\n",
        "1. Find the rank of a matrix\n",
        "2. Compute the inverse of a matrix\n",
        "3. Compute the determinant of a matrix\n",
        "\n",
        "\n",
        "\n",
        "---\n"
      ],
      "metadata": {
        "id": "O-rWgFCv_27-"
      }
    },
    {
      "cell_type": "code",
      "source": [],
      "metadata": {
        "id": "rcW7oVrGAGwI"
      },
      "execution_count": null,
      "outputs": []
    },
    {
      "cell_type": "markdown",
      "source": [
        "\n",
        "## ⭐ Bonus Challenge\n",
        "**Question:**\n",
        "Given a 2D array of shape (6, 6), extract all 3x3 submatrices (using slicing) and store them in a list.\n",
        "\n"
      ],
      "metadata": {
        "id": "lQb606tk_5L5"
      }
    },
    {
      "cell_type": "code",
      "source": [],
      "metadata": {
        "id": "dNR9aI5m9Vrr"
      },
      "execution_count": null,
      "outputs": []
    },
    {
      "cell_type": "markdown",
      "source": [
        "\n",
        "---\n",
        "\n",
        "Happy coding! 🎯\n"
      ],
      "metadata": {
        "id": "-qOCxwQnAJn2"
      }
    },
    {
      "cell_type": "code",
      "source": [],
      "metadata": {
        "id": "MBHa4EcJAJxF"
      },
      "execution_count": null,
      "outputs": []
    }
  ]
}